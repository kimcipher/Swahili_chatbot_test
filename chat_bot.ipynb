{
  "cells": [
    {
      "cell_type": "code",
      "execution_count": null,
      "metadata": {
        "colab": {
          "base_uri": "https://localhost:8080/"
        },
        "id": "oTRbzkOFYI4F",
        "outputId": "c40b9cfe-eaa6-49d9-ef96-54f5da030ab0"
      },
      "outputs": [
        {
          "name": "stdout",
          "output_type": "stream",
          "text": [
            "Looking in indexes: https://pypi.org/simple, https://us-python.pkg.dev/colab-wheels/public/simple/\n",
            "Requirement already satisfied: nltk in /usr/local/lib/python3.7/dist-packages (3.7)\n",
            "Requirement already satisfied: click in /usr/local/lib/python3.7/dist-packages (from nltk) (7.1.2)\n",
            "Requirement already satisfied: tqdm in /usr/local/lib/python3.7/dist-packages (from nltk) (4.64.1)\n",
            "Requirement already satisfied: joblib in /usr/local/lib/python3.7/dist-packages (from nltk) (1.2.0)\n",
            "Requirement already satisfied: regex>=2021.8.3 in /usr/local/lib/python3.7/dist-packages (from nltk) (2022.6.2)\n"
          ]
        }
      ],
      "source": [
        "# natural language processing -> nltk\n",
        "!pip3 install nltk"
      ]
    },
    {
      "cell_type": "code",
      "execution_count": null,
      "metadata": {
        "id": "BRzrdzMHYp3g"
      },
      "outputs": [],
      "source": [
        "from nltk.chat.util import Chat, reflections"
      ]
    },
    {
      "cell_type": "code",
      "execution_count": null,
      "metadata": {
        "id": "P1iM1HCXZItm"
      },
      "outputs": [],
      "source": [
        "pairs = [  \n",
        "\n",
        "        [\n",
        "            r\"Hello|hi|hey|niaje|rada\",\n",
        "            [\"Oeee rada\"] \n",
        "            \n",
        "        ],\n",
        "         \n",
        "\n",
        "\n",
        "        [ \n",
        "            r\"What is your name?|fine|safi|wagwan\",\n",
        "            [\"Me ni Jonte wa Madingo, Radako?\"]\n",
        "            \n",
        "        ],\n",
        "         \n",
        "        [ \n",
        "            r\"nadai kubook|ntalipa wapi|ntaregister wapi|wagwan\",\n",
        "            [\"Your welcomme\"]\n",
        "            \n",
        "        ],\n",
        "         \n",
        "          [ \n",
        "            r\"Naishi (.*)\",\n",
        "            [\"Wow, iO NI PLACE true, watu roho safi me hubuy cladi %1\"]\n",
        "            \n",
        "        ],\n",
        "         \n",
        "\n",
        "          [ \n",
        "            r\"Unajua (.*)\",\n",
        "            [\"Eh manze %1 ni morio wangu kutoka zile ma enzi\"]\n",
        "            \n",
        "        ],\n",
        "         \n",
        "         [ \n",
        "            r\"(.*)gender?\",\n",
        "            [\"me ni alien, what are you?\"]\n",
        "            \n",
        "        ],\n",
        "          [ \n",
        "            r\"(.*)love (.*)\",\n",
        "            [\"I dont have feelings like humans,but can i be your friend?\"]\n",
        "            \n",
        "        ]\n",
        "       \n",
        "\n",
        "\n",
        "\n",
        "        ]"
      ]
    },
    {
      "cell_type": "code",
      "execution_count": null,
      "metadata": {
        "colab": {
          "background_save": true,
          "base_uri": "https://localhost:8080/"
        },
        "id": "NwNd0xW0aoON",
        "outputId": "ac0da4ec-38d5-4ef0-d869-06c7ed562dff"
      },
      "outputs": [
        {
          "name": "stdout",
          "output_type": "stream",
          "text": [
            "Its a Good day isnt it! \n",
            " I love chatting \n",
            "  Whats up?\n",
            "I dont have feelings like humans,but can i be your friend?\n",
            "None\n"
          ]
        }
      ],
      "source": [
        "chat = Chat(pairs, reflections)\n",
        "def sparta():\n",
        "  print(\"Its a Good day isnt it! \\n I love chatting \\n  Whats up?\")\n",
        "  chat.converse()\n",
        "\n",
        "sparta()\n"
      ]
    }
  ],
  "metadata": {
    "colab": {
      "collapsed_sections": [],
      "provenance": []
    },
    "kernelspec": {
      "display_name": "Python 3",
      "name": "python3"
    },
    "language_info": {
      "name": "python"
    }
  },
  "nbformat": 4,
  "nbformat_minor": 0
}